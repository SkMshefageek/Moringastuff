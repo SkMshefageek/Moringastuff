{
 "cells": [
  {
   "cell_type": "markdown",
   "id": "4a68b0e8-25be-47d3-b639-cc1ba92f9259",
   "metadata": {},
   "source": [
    "# Dictionary\n",
    "* Data type that stores data using ***Key value*** pairs\n",
    "*Use curly brackets(***{}*** to define dictionaries in python\n",
    "\n",
    "*syntax\n",
    "\n",
    "***key: value***\n",
    "\n",
    "\n"
   ]
  },
  {
   "cell_type": "code",
   "execution_count": 1,
   "id": "8a7a917c-532b-4c2b-8da7-2589ed7be97f",
   "metadata": {
    "tags": []
   },
   "outputs": [],
   "source": [
    "#example\n",
    "\n",
    "student = {\n",
    "    \"Name\" : \"Antonny Muiko\",\n",
    "    \"Id\": 1245,\n",
    "    \"Gender\" : \"Male\"\n",
    "}"
   ]
  },
  {
   "cell_type": "code",
   "execution_count": 2,
   "id": "539e8b60-5ccc-4b17-8559-908881a55beb",
   "metadata": {
    "tags": []
   },
   "outputs": [
    {
     "name": "stdout",
     "output_type": "stream",
     "text": [
      "{'Name': 'Antonny Muiko', 'Id': 1245, 'Gender': 'Male'}\n"
     ]
    }
   ],
   "source": [
    "print(student)"
   ]
  },
  {
   "cell_type": "code",
   "execution_count": 3,
   "id": "0ca6299c-049e-46b7-83bc-5d332a6d8e94",
   "metadata": {
    "tags": []
   },
   "outputs": [],
   "source": [
    "#example 2\n",
    "\n",
    "office = {\n",
    "    \"sky\" :[\"Nyambane\",\"Eugene\",\"Yusuf\"],\n",
    "    \"friends of sky\" : [\"Martin\",\"Lumumba\",\"Chemu\"],\n",
    "    \"kitchen cabinet\" : [\"Maggy\",\"Eva\",\"Linda\"],\n",
    "    \"office Keepers\" : [\"Kocheli\",\"Ngobiro\",\"John\"]\n",
    "}"
   ]
  },
  {
   "cell_type": "code",
   "execution_count": 4,
   "id": "1024b7d0-8913-469e-a0ba-5f141d50cfa1",
   "metadata": {
    "tags": []
   },
   "outputs": [
    {
     "name": "stdout",
     "output_type": "stream",
     "text": [
      "{'sky': ['Nyambane', 'Eugene', 'Yusuf'], 'friends of sky': ['Martin', 'Lumumba', 'Chemu'], 'kitchen cabinet': ['Maggy', 'Eva', 'Linda'], 'office Keepers': ['Kocheli', 'Ngobiro', 'John']}\n"
     ]
    }
   ],
   "source": [
    "print(office)"
   ]
  },
  {
   "cell_type": "code",
   "execution_count": 5,
   "id": "494bd54b-ed37-43b0-a36a-0149aadc5ec7",
   "metadata": {
    "tags": []
   },
   "outputs": [
    {
     "data": {
      "text/plain": [
       "dict_keys(['sky', 'friends of sky', 'kitchen cabinet', 'office Keepers'])"
      ]
     },
     "execution_count": 5,
     "metadata": {},
     "output_type": "execute_result"
    }
   ],
   "source": [
    "#Keys of the dictionary\n",
    "office.keys()"
   ]
  },
  {
   "cell_type": "code",
   "execution_count": 8,
   "id": "ff2e583a-0157-4c92-9fc3-7c233df82c35",
   "metadata": {
    "tags": []
   },
   "outputs": [
    {
     "name": "stdout",
     "output_type": "stream",
     "text": [
      "['Kocheli', 'Ngobiro', 'John']\n"
     ]
    }
   ],
   "source": [
    "# To access items in the dictionaries we use the keys. Example # access values\n",
    "#syntax dictionary-name[key]\n",
    "\n",
    "print(office[\"office Keepers\"])\n",
    "\n"
   ]
  },
  {
   "cell_type": "code",
   "execution_count": 9,
   "id": "6c2305ea-a1d8-492b-a04b-bc8a76f2f0bd",
   "metadata": {
    "tags": []
   },
   "outputs": [
    {
     "name": "stdout",
     "output_type": "stream",
     "text": [
      "['Nyambane', 'Eugene', 'Yusuf']\n"
     ]
    }
   ],
   "source": [
    "print(office[\"sky\"])"
   ]
  },
  {
   "cell_type": "code",
   "execution_count": 10,
   "id": "0ff9d490-1c6c-4451-931a-f9a45b95bdb1",
   "metadata": {
    "tags": []
   },
   "outputs": [],
   "source": [
    "#Remember lists append?\n",
    "# add Kirui to \"sky\"\n",
    "\n",
    "office[\"sky\"].append(\"kirui\")\n"
   ]
  },
  {
   "cell_type": "code",
   "execution_count": 16,
   "id": "763ae7d8-dd24-47c7-884f-358f9c4e3f8d",
   "metadata": {
    "tags": []
   },
   "outputs": [
    {
     "name": "stdout",
     "output_type": "stream",
     "text": [
      "['Nyambane', 'Eugene', 'Yusuf', 'Kirui']\n"
     ]
    }
   ],
   "source": [
    "print(office[\"sky\"])"
   ]
  },
  {
   "cell_type": "code",
   "execution_count": 14,
   "id": "3641cace-73eb-49d1-a837-71dec6246a9a",
   "metadata": {
    "tags": []
   },
   "outputs": [
    {
     "name": "stdout",
     "output_type": "stream",
     "text": [
      "Yusuf\n"
     ]
    }
   ],
   "source": [
    "print(office[\"sky\"][2])"
   ]
  },
  {
   "cell_type": "code",
   "execution_count": 15,
   "id": "224799df-4bd3-41e2-8802-8b58c265acb0",
   "metadata": {
    "tags": []
   },
   "outputs": [],
   "source": [
    "office[\"sky\"][3]=\"Kirui\""
   ]
  },
  {
   "cell_type": "code",
   "execution_count": 47,
   "id": "77754bfa-b6a5-4195-98db-74e7560a4f30",
   "metadata": {
    "tags": []
   },
   "outputs": [],
   "source": [
    "# cafe\n",
    "\n",
    "menu = {\n",
    "    \"Breakfast\" : {\n",
    "        \"Beverages\" :{\n",
    "            \"Tea\" : [\"masala\",\"ginger\",\"caramel\"],\n",
    "            \"coffee\" : [\"black\",\"white\",\"latte\"],\n",
    "                        \"cocoa\" : [\"hot chocolate\",\"free range\"]\n",
    "        },\n",
    "        \"accompaniment\" : {\n",
    "            \"wings\" : [\"hot wings\",\"spicy\",\"lemon and herbs\"],\n",
    "            \"kienyeji\" : [\"nduma\",\"nguashe\",\"cassava\"],\n",
    "        },\n",
    "    },\n",
    "    \"lunch\" : {\n",
    "         \"carbohydrates\" : [\"ugali\",\"mokimo\",\"rice\"],\n",
    "         \"vegs\" : [\"sukuma\", \"cabbage\"],\n",
    "         \"proteins\" : [\"chicken\",\"fish\",\"mutton\"],\n",
    "            \n",
    "}      \n",
    "}            \n",
    "            \n",
    "            "
   ]
  },
  {
   "cell_type": "code",
   "execution_count": 24,
   "id": "f3b963f6-387f-4d90-82f3-e93617ab7bff",
   "metadata": {
    "tags": []
   },
   "outputs": [
    {
     "data": {
      "text/plain": [
       "dict_keys(['Breakfast', 'lunch'])"
      ]
     },
     "execution_count": 24,
     "metadata": {},
     "output_type": "execute_result"
    }
   ],
   "source": [
    "menu.keys()"
   ]
  },
  {
   "cell_type": "code",
   "execution_count": 21,
   "id": "a7a46a2c-7178-46ad-a956-0ad069c455b9",
   "metadata": {
    "tags": []
   },
   "outputs": [
    {
     "name": "stdout",
     "output_type": "stream",
     "text": [
      "{'Breakfast': {'Beverages': {'Tea': ['masala', 'ginger', 'caramel'], 'coffee': ['black', 'white', 'latte'], 'cocoa': ['hot chocolate', 'free range']}, 'accompaniment': {'wings': ['hot wings', 'spicy', 'lemon and herbs'], 'kienyeji': ['nduma', 'nguashecassava']}}, 'lunch': {'carbohydrates': ['ugali', 'mokimo', 'rice'], 'vegs': ['sukuma', 'cabbage'], 'proteins': ['chicken', 'fish', 'mutton']}}\n"
     ]
    }
   ],
   "source": [
    "print(menu)"
   ]
  },
  {
   "cell_type": "code",
   "execution_count": 22,
   "id": "29d078e2-2fba-4adc-b32a-d402d2bbac3b",
   "metadata": {
    "tags": []
   },
   "outputs": [
    {
     "name": "stdout",
     "output_type": "stream",
     "text": [
      "{'Beverages': {'Tea': ['masala', 'ginger', 'caramel'], 'coffee': ['black', 'white', 'latte'], 'cocoa': ['hot chocolate', 'free range']}, 'accompaniment': {'wings': ['hot wings', 'spicy', 'lemon and herbs'], 'kienyeji': ['nduma', 'nguashecassava']}}\n"
     ]
    }
   ],
   "source": [
    "print(menu[\"Breakfast\"])"
   ]
  },
  {
   "cell_type": "code",
   "execution_count": 23,
   "id": "a214be91-d091-4aab-9681-a722c9141e75",
   "metadata": {
    "tags": []
   },
   "outputs": [
    {
     "name": "stdout",
     "output_type": "stream",
     "text": [
      "{'Tea': ['masala', 'ginger', 'caramel'], 'coffee': ['black', 'white', 'latte'], 'cocoa': ['hot chocolate', 'free range']}\n"
     ]
    }
   ],
   "source": [
    "print(menu[\"Breakfast\"][\"Beverages\"])"
   ]
  },
  {
   "cell_type": "code",
   "execution_count": 25,
   "id": "93978ecc-2b00-437c-95ae-d1a12e893fa5",
   "metadata": {
    "tags": []
   },
   "outputs": [
    {
     "data": {
      "text/plain": [
       "dict"
      ]
     },
     "execution_count": 25,
     "metadata": {},
     "output_type": "execute_result"
    }
   ],
   "source": [
    "type(menu[\"Breakfast\"])"
   ]
  },
  {
   "cell_type": "code",
   "execution_count": 26,
   "id": "3ab3a257-a8e8-4d8e-a72e-d9a060222ac5",
   "metadata": {
    "tags": []
   },
   "outputs": [
    {
     "data": {
      "text/plain": [
       "dict_keys(['Beverages', 'accompaniment'])"
      ]
     },
     "execution_count": 26,
     "metadata": {},
     "output_type": "execute_result"
    }
   ],
   "source": [
    "menu[\"Breakfast\"].keys()"
   ]
  },
  {
   "cell_type": "code",
   "execution_count": 28,
   "id": "6cb385cc-c53e-4a3a-bd78-9b6284be8e30",
   "metadata": {
    "tags": []
   },
   "outputs": [
    {
     "name": "stdout",
     "output_type": "stream",
     "text": [
      "{'Tea': ['masala', 'ginger', 'caramel'], 'coffee': ['black', 'white', 'latte'], 'cocoa': ['hot chocolate', 'free range']}\n"
     ]
    }
   ],
   "source": [
    "print(menu[\"Breakfast\"][\"Beverages\"])"
   ]
  },
  {
   "cell_type": "code",
   "execution_count": 29,
   "id": "549cd225-250f-44d2-a9f6-48cbdea8de20",
   "metadata": {
    "tags": []
   },
   "outputs": [
    {
     "name": "stdout",
     "output_type": "stream",
     "text": [
      "['masala', 'ginger', 'caramel']\n"
     ]
    }
   ],
   "source": [
    "print(menu[\"Breakfast\"][\"Beverages\"][\"Tea\"])"
   ]
  },
  {
   "cell_type": "code",
   "execution_count": 30,
   "id": "03ab3787-e8ec-4385-8933-01550a30348d",
   "metadata": {
    "tags": []
   },
   "outputs": [
    {
     "name": "stdout",
     "output_type": "stream",
     "text": [
      "caramel\n"
     ]
    }
   ],
   "source": [
    "print(menu[\"Breakfast\"][\"Beverages\"][\"Tea\"][2])"
   ]
  },
  {
   "cell_type": "code",
   "execution_count": 43,
   "id": "7acb5a77-2df5-4de4-813d-438eaba90993",
   "metadata": {
    "tags": []
   },
   "outputs": [
    {
     "name": "stdout",
     "output_type": "stream",
     "text": [
      "Kirui had the following for breakfast:\n",
      "\t* caramel\n"
     ]
    }
   ],
   "source": [
    "print(f'Kirui had the following for breakfast:\\n\\t* {menu[\"Breakfast\"][\"Beverages\"][\"Tea\"][2]}')"
   ]
  },
  {
   "cell_type": "code",
   "execution_count": 48,
   "id": "373e095d-f84d-4709-bbe1-3afdd0de22c5",
   "metadata": {
    "tags": []
   },
   "outputs": [
    {
     "name": "stdout",
     "output_type": "stream",
     "text": [
      "Kirui had the following for breakfast:\n",
      "\t* caramel\n",
      "\t* lemon and herbs\n",
      "\t* cassava\n"
     ]
    }
   ],
   "source": [
    "print(f'Kirui had the following for breakfast:\\n\\t* {menu[\"Breakfast\"][\"Beverages\"][\"Tea\"][2]}\\n\\t* {menu[\"Breakfast\"][\"accompaniment\"][\"wings\"][2]}\\n\\t* {menu[\"Breakfast\"][\"accompaniment\"][\"kienyeji\"][2]}')"
   ]
  },
  {
   "cell_type": "code",
   "execution_count": null,
   "id": "e36be633-833f-4a88-9615-49ef92f4e34c",
   "metadata": {},
   "outputs": [],
   "source": []
  }
 ],
 "metadata": {
  "kernelspec": {
   "display_name": "Python 3 (ipykernel)",
   "language": "python",
   "name": "python3"
  },
  "language_info": {
   "codemirror_mode": {
    "name": "ipython",
    "version": 3
   },
   "file_extension": ".py",
   "mimetype": "text/x-python",
   "name": "python",
   "nbconvert_exporter": "python",
   "pygments_lexer": "ipython3",
   "version": "3.11.3"
  }
 },
 "nbformat": 4,
 "nbformat_minor": 5
}
