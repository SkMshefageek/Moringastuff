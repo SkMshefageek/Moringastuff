{
 "cells": [
  {
   "cell_type": "code",
   "execution_count": 1,
   "id": "6d030f66-4e9c-4302-b7ee-5d336a14928c",
   "metadata": {
    "tags": []
   },
   "outputs": [
    {
     "name": "stdout",
     "output_type": "stream",
     "text": [
      "Welcome to the ToDo List Manager!\n",
      "1. Add Task\n",
      "2. Mark Task as Completed\n",
      "3. List Tasks\n",
      "4. Remove Task\n",
      "5. Quit\n"
     ]
    },
    {
     "name": "stdin",
     "output_type": "stream",
     "text": [
      "Please select an option:  1\n",
      "Enter task description:  exercise\n"
     ]
    },
    {
     "name": "stdout",
     "output_type": "stream",
     "text": [
      "Task added successfully!\n",
      "Welcome to the ToDo List Manager!\n",
      "1. Add Task\n",
      "2. Mark Task as Completed\n",
      "3. List Tasks\n",
      "4. Remove Task\n",
      "5. Quit\n"
     ]
    },
    {
     "name": "stdin",
     "output_type": "stream",
     "text": [
      "Please select an option:  1\n",
      "Enter task description:  shower\n"
     ]
    },
    {
     "name": "stdout",
     "output_type": "stream",
     "text": [
      "Task added successfully!\n",
      "Welcome to the ToDo List Manager!\n",
      "1. Add Task\n",
      "2. Mark Task as Completed\n",
      "3. List Tasks\n",
      "4. Remove Task\n",
      "5. Quit\n"
     ]
    },
    {
     "name": "stdin",
     "output_type": "stream",
     "text": [
      "Please select an option:  dress up\n"
     ]
    },
    {
     "name": "stdout",
     "output_type": "stream",
     "text": [
      "Invalid choice. Please select a valid option.\n",
      "Welcome to the ToDo List Manager!\n",
      "1. Add Task\n",
      "2. Mark Task as Completed\n",
      "3. List Tasks\n",
      "4. Remove Task\n",
      "5. Quit\n"
     ]
    },
    {
     "name": "stdin",
     "output_type": "stream",
     "text": [
      "Please select an option:  1\n",
      "Enter task description:  dress up\n"
     ]
    },
    {
     "name": "stdout",
     "output_type": "stream",
     "text": [
      "Task added successfully!\n",
      "Welcome to the ToDo List Manager!\n",
      "1. Add Task\n",
      "2. Mark Task as Completed\n",
      "3. List Tasks\n",
      "4. Remove Task\n",
      "5. Quit\n"
     ]
    },
    {
     "name": "stdin",
     "output_type": "stream",
     "text": [
      "Please select an option:  1\n",
      "Enter task description:  Have breakfast\n"
     ]
    },
    {
     "name": "stdout",
     "output_type": "stream",
     "text": [
      "Task added successfully!\n",
      "Welcome to the ToDo List Manager!\n",
      "1. Add Task\n",
      "2. Mark Task as Completed\n",
      "3. List Tasks\n",
      "4. Remove Task\n",
      "5. Quit\n"
     ]
    },
    {
     "name": "stdin",
     "output_type": "stream",
     "text": [
      "Please select an option:  Feed the cow\n"
     ]
    },
    {
     "name": "stdout",
     "output_type": "stream",
     "text": [
      "Invalid choice. Please select a valid option.\n",
      "Welcome to the ToDo List Manager!\n",
      "1. Add Task\n",
      "2. Mark Task as Completed\n",
      "3. List Tasks\n",
      "4. Remove Task\n",
      "5. Quit\n"
     ]
    },
    {
     "name": "stdin",
     "output_type": "stream",
     "text": [
      "Please select an option:  1\n",
      "Enter task description:  feed the cow\n"
     ]
    },
    {
     "name": "stdout",
     "output_type": "stream",
     "text": [
      "Task added successfully!\n",
      "Welcome to the ToDo List Manager!\n",
      "1. Add Task\n",
      "2. Mark Task as Completed\n",
      "3. List Tasks\n",
      "4. Remove Task\n",
      "5. Quit\n"
     ]
    },
    {
     "name": "stdin",
     "output_type": "stream",
     "text": [
      "Please select an option:  1\n",
      "Enter task description:  pack my bag\n"
     ]
    },
    {
     "name": "stdout",
     "output_type": "stream",
     "text": [
      "Task added successfully!\n",
      "Welcome to the ToDo List Manager!\n",
      "1. Add Task\n",
      "2. Mark Task as Completed\n",
      "3. List Tasks\n",
      "4. Remove Task\n",
      "5. Quit\n"
     ]
    },
    {
     "name": "stdin",
     "output_type": "stream",
     "text": [
      "Please select an option:  5\n"
     ]
    },
    {
     "name": "stdout",
     "output_type": "stream",
     "text": [
      "Goodbye!\n"
     ]
    }
   ],
   "source": [
    "class ToDoListManager:\n",
    "    def __init__(self):\n",
    "        self.tasks = []\n",
    "\n",
    "    def display_menu(self):\n",
    "        print(\"Welcome to the ToDo List Manager!\")\n",
    "        print(\"1. Add Task\")\n",
    "        print(\"2. Mark Task as Completed\")\n",
    "        print(\"3. List Tasks\")\n",
    "        print(\"4. Remove Task\")\n",
    "        print(\"5. Quit\")\n",
    "\n",
    "    def add_task(self, task_description):\n",
    "        self.tasks.append({\"description\": task_description, \"completed\": False})\n",
    "        print(\"Task added successfully!\")\n",
    "\n",
    "    def mark_task_completed(self, task_index):\n",
    "        if 0 <= task_index < len(self.tasks):\n",
    "            if not self.tasks[task_index][\"completed\"]:\n",
    "                self.tasks[task_index][\"completed\"] = True\n",
    "                print(\"Task marked as completed.\")\n",
    "            else:\n",
    "                print(\"This task is already completed.\")\n",
    "        else:\n",
    "            print(\"Invalid task index.\")\n",
    "\n",
    "    def list_tasks(self):\n",
    "        for index, task in enumerate(self.tasks):\n",
    "            status = \"Completed\" if task[\"completed\"] else \"Not Completed\"\n",
    "            print(f\"{index + 1}. {task['description']} - {status}\")\n",
    "\n",
    "    def remove_task(self, task_index):\n",
    "        if 0 <= task_index < len(self.tasks):\n",
    "            del self.tasks[task_index]\n",
    "            print(\"Task removed successfully.\")\n",
    "        else:\n",
    "            print(\"Invalid task index.\")\n",
    "\n",
    "    def run(self):\n",
    "        while True:\n",
    "            self.display_menu()\n",
    "            choice = input(\"Please select an option: \")\n",
    "\n",
    "            if choice == \"1\":\n",
    "                task_description = input(\"Enter task description: \")\n",
    "                self.add_task(task_description)\n",
    "            elif choice == \"2\":\n",
    "                self.list_tasks()\n",
    "                task_index = int(input(\"Enter task index to mark as completed: \")) - 1\n",
    "                self.mark_task_completed(task_index)\n",
    "            elif choice == \"3\":\n",
    "                self.list_tasks()\n",
    "            elif choice == \"4\":\n",
    "                self.list_tasks()\n",
    "                task_index = int(input(\"Enter task index to remove: \")) - 1\n",
    "                self.remove_task(task_index)\n",
    "            elif choice == \"5\":\n",
    "                print(\"Goodbye!\")\n",
    "                break\n",
    "            else:\n",
    "                print(\"Invalid choice. Please select a valid option.\")\n",
    "\n",
    "\n",
    "if __name__ == \"__main__\":\n",
    "    todo_manager = ToDoListManager()\n",
    "    todo_manager.run()"
   ]
  },
  {
   "cell_type": "code",
   "execution_count": null,
   "id": "c5d042da-c3b2-4ad4-9389-eaede0197139",
   "metadata": {},
   "outputs": [],
   "source": []
  }
 ],
 "metadata": {
  "kernelspec": {
   "display_name": "Python 3 (ipykernel)",
   "language": "python",
   "name": "python3"
  },
  "language_info": {
   "codemirror_mode": {
    "name": "ipython",
    "version": 3
   },
   "file_extension": ".py",
   "mimetype": "text/x-python",
   "name": "python",
   "nbconvert_exporter": "python",
   "pygments_lexer": "ipython3",
   "version": "3.11.3"
  }
 },
 "nbformat": 4,
 "nbformat_minor": 5
}
